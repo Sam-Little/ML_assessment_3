{
 "cells": [
  {
   "cell_type": "markdown",
   "metadata": {},
   "source": [
    "#Problem Statement\n",
    "\n",
    "#In this project i will aim to create a model that will predict student exam scores based on various performance factors such as hours studied, attendance, parental involvement, and access to resources. The goal is to build a predictive model that helps identify the key factors influencing academic performance, allowing educators to implement targeted interventions to improve student outcomes."
   ]
  },
  {
   "cell_type": "code",
   "execution_count": null,
   "metadata": {
    "vscode": {
     "languageId": "plaintext"
    }
   },
   "outputs": [],
   "source": []
  },
  {
   "cell_type": "markdown",
   "metadata": {},
   "source": []
  }
 ],
 "metadata": {
  "language_info": {
   "name": "python"
  }
 },
 "nbformat": 4,
 "nbformat_minor": 2
}
